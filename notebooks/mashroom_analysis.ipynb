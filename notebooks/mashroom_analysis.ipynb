{
 "cells": [
  {
   "cell_type": "code",
   "execution_count": null,
   "id": "ae8ade95-5e33-4ce3-a05f-5ff4214d0c06",
   "metadata": {},
   "outputs": [],
   "source": [
    "Импорты и настройки"
   ]
  },
  {
   "cell_type": "code",
   "execution_count": null,
   "id": "cfc1b15e-0fa5-4e7a-89d5-044c2a633412",
   "metadata": {},
   "outputs": [],
   "source": []
  }
 ],
 "metadata": {
  "kernelspec": {
   "display_name": "Python 3 (ipykernel)",
   "language": "python",
   "name": "python3"
  },
  "language_info": {
   "codemirror_mode": {
    "name": "ipython",
    "version": 3
   },
   "file_extension": ".py",
   "mimetype": "text/x-python",
   "name": "python",
   "nbconvert_exporter": "python",
   "pygments_lexer": "ipython3",
   "version": "3.9.6"
  }
 },
 "nbformat": 4,
 "nbformat_minor": 5
}
